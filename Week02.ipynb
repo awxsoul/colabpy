{
  "nbformat": 4,
  "nbformat_minor": 0,
  "metadata": {
    "colab": {
      "provenance": [],
      "authorship_tag": "ABX9TyOReplda1aS1jAaxuI5H8mk",
      "include_colab_link": true
    },
    "kernelspec": {
      "name": "python3",
      "display_name": "Python 3"
    },
    "language_info": {
      "name": "python"
    }
  },
  "cells": [
    {
      "cell_type": "markdown",
      "metadata": {
        "id": "view-in-github",
        "colab_type": "text"
      },
      "source": [
        "<a href=\"https://colab.research.google.com/github/awxsoul/colabpy/blob/main/Week02.ipynb\" target=\"_parent\"><img src=\"https://colab.research.google.com/assets/colab-badge.svg\" alt=\"Open In Colab\"/></a>"
      ]
    },
    {
      "cell_type": "markdown",
      "source": [
        "1. Print the numbers from 1 to 20 and also print the count of numbers divisible by 2."
      ],
      "metadata": {
        "id": "pcyR9InBy8Fb"
      }
    },
    {
      "cell_type": "code",
      "execution_count": 13,
      "metadata": {
        "colab": {
          "base_uri": "https://localhost:8080/"
        },
        "id": "g6pBDlfJxZVq",
        "outputId": "5c878f04-09f6-4506-b280-d11c05795d7d"
      },
      "outputs": [
        {
          "output_type": "stream",
          "name": "stdout",
          "text": [
            "1 2 3 4 5 6 7 8 9 10 11 12 13 14 15 16 17 18 19 20 \n",
            "Number divisible by 2 : 10\n"
          ]
        }
      ],
      "source": [
        "count=0\n",
        "for i in range(1,21):\n",
        "  print(i, end=\" \")\n",
        "  if i%2==0:\n",
        "    count+=1\n",
        "print(\"\\nNumber divisible by 2 :\",count)"
      ]
    },
    {
      "cell_type": "markdown",
      "source": [
        "2. Iterate value from 6 to 16 and stop the iteration when the first even number occurs in the list."
      ],
      "metadata": {
        "id": "0gpFCtUPzAzL"
      }
    },
    {
      "cell_type": "code",
      "source": [
        "for i in range(6,16):\n",
        "  if i%2==0:\n",
        "    print(\"First even number occured\")\n",
        "    break"
      ],
      "metadata": {
        "colab": {
          "base_uri": "https://localhost:8080/"
        },
        "id": "QAg_TU8GzNAv",
        "outputId": "79dc7b64-9bb6-4ae3-f801-0aaa07f06f8e"
      },
      "execution_count": 3,
      "outputs": [
        {
          "output_type": "stream",
          "name": "stdout",
          "text": [
            "First even number occured\n"
          ]
        }
      ]
    },
    {
      "cell_type": "markdown",
      "source": [
        "Iterate the value from 3 to 12 and if the sum of all the numbers is greater than 20, then print 6 as\n",
        "result."
      ],
      "metadata": {
        "id": "cAC9cBNTzDJz"
      }
    },
    {
      "cell_type": "code",
      "source": [
        "sum=0\n",
        "for i in range(3,13):\n",
        "  sum+=i\n",
        "if sum>20:\n",
        "  print(6)"
      ],
      "metadata": {
        "colab": {
          "base_uri": "https://localhost:8080/"
        },
        "id": "AywIJOtr0DZM",
        "outputId": "62ad9814-3037-4226-dd21-bff9359b5f09"
      },
      "execution_count": 6,
      "outputs": [
        {
          "output_type": "stream",
          "name": "stdout",
          "text": [
            "6\n"
          ]
        }
      ]
    },
    {
      "cell_type": "markdown",
      "source": [
        "Get the input as integer values and print “yes” if the points are collinear else print “no”."
      ],
      "metadata": {
        "id": "yVhHwP0EzFgL"
      }
    },
    {
      "cell_type": "code",
      "source": [
        "ab=int(input(\"Enter the value of AB :\"))\n",
        "bc=int(input(\"Enter the value of CB :\"))\n",
        "ac=int(input(\"Enter the value of AC :\"))\n",
        "if ac==ab+bc:\n",
        "  print(\"yes\")\n",
        "else:\n",
        "  print(\"no\")"
      ],
      "metadata": {
        "colab": {
          "base_uri": "https://localhost:8080/"
        },
        "id": "g4cH5MiT0WGf",
        "outputId": "24e9ccc2-15b7-4936-ea6a-1a0ab7a308ff"
      },
      "execution_count": 7,
      "outputs": [
        {
          "output_type": "stream",
          "name": "stdout",
          "text": [
            "Enter the value of AB :4\n",
            "Enter the value of CB :5\n",
            "Enter the value of AC :9\n",
            "yes\n"
          ]
        }
      ]
    },
    {
      "cell_type": "markdown",
      "source": [
        "Print the sum of all odd numbers from 10 to 20."
      ],
      "metadata": {
        "id": "Q1R8BJ4JzHcM"
      }
    },
    {
      "cell_type": "code",
      "source": [
        "sum=0\n",
        "for i in range(10,21):\n",
        "  if i%2!=0:\n",
        "    sum+=i\n",
        "print(sum)"
      ],
      "metadata": {
        "colab": {
          "base_uri": "https://localhost:8080/"
        },
        "id": "uM4Fl3Xw1lGD",
        "outputId": "2a991d40-ccbf-479f-b85a-a486c05e976f"
      },
      "execution_count": 10,
      "outputs": [
        {
          "output_type": "stream",
          "name": "stdout",
          "text": [
            "75\n"
          ]
        }
      ]
    },
    {
      "cell_type": "markdown",
      "source": [
        "Implement the pattern\n",
        "1\n",
        "1 2\n",
        "1 2 3"
      ],
      "metadata": {
        "id": "11d5TRP-zJNE"
      }
    },
    {
      "cell_type": "code",
      "source": [
        "for i in range(1,4):\n",
        "  for j in range(1,i+1):\n",
        "    print(j,end=\" \")\n",
        "  print(\"\\n\")"
      ],
      "metadata": {
        "colab": {
          "base_uri": "https://localhost:8080/"
        },
        "id": "FyeSoLCsy5k8",
        "outputId": "e0b7cf9c-3e07-4d92-c107-3d49a9ab0a4c"
      },
      "execution_count": 16,
      "outputs": [
        {
          "output_type": "stream",
          "name": "stdout",
          "text": [
            "1 \n",
            "\n",
            "1 2 \n",
            "\n",
            "1 2 3 \n",
            "\n"
          ]
        }
      ]
    }
  ]
}